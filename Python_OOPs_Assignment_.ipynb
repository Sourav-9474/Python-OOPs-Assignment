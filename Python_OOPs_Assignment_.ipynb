{
  "nbformat": 4,
  "nbformat_minor": 0,
  "metadata": {
    "colab": {
      "provenance": []
    },
    "kernelspec": {
      "name": "python3",
      "display_name": "Python 3"
    },
    "language_info": {
      "name": "python"
    }
  },
  "cells": [
    {
      "cell_type": "markdown",
      "source": [
        "**Python OOPs Assignment**"
      ],
      "metadata": {
        "id": "MFgDkmYvXLf7"
      }
    },
    {
      "cell_type": "markdown",
      "source": [
        "**Python OOPs Questions**"
      ],
      "metadata": {
        "id": "kXXwRUkqXRlv"
      }
    },
    {
      "cell_type": "markdown",
      "source": [
        "1. What is Object-Oriented Programming (OOP)?\n",
        "\n",
        "=>  OOP is a programming paradigm based on the concept of objects, which contain data (attributes) and methods (functions). It promotes code reusability, modularity, and organization. The four main principles of OOP are:\n",
        "\n",
        "Encapsulation (data hiding)\n",
        "\n",
        "Abstraction (hiding complexity)\n",
        "\n",
        "Inheritance (code reusability)\n",
        "\n",
        "Polymorphism (different behavior for the same function)"
      ],
      "metadata": {
        "id": "xWma_Uk_XZbB"
      }
    },
    {
      "cell_type": "markdown",
      "source": [
        "2. What is a class in OOP?\n",
        "\n",
        "=>  A class is a blueprint or template for creating objects. It defines attributes (variables) and methods (functions) that objects of the class can use."
      ],
      "metadata": {
        "id": "48Lff6CUX1x8"
      }
    },
    {
      "cell_type": "code",
      "source": [
        "class car:\n",
        "  def __init__(self,brand,model):\n",
        "    self.brand=brand\n",
        "    self.model=model\n",
        "  def display(self):\n",
        "    print(f\"car:{self.brand} {self.model}\")\n",
        "car1=car(\"Toyota\",\"Camry\")\n",
        "car1.display()"
      ],
      "metadata": {
        "colab": {
          "base_uri": "https://localhost:8080/"
        },
        "id": "vMJUy463YZIt",
        "outputId": "6d1d4b64-3ffa-484f-e857-446c2e966ff1"
      },
      "execution_count": null,
      "outputs": [
        {
          "output_type": "stream",
          "name": "stdout",
          "text": [
            "car:Toyota Camry\n"
          ]
        }
      ]
    },
    {
      "cell_type": "markdown",
      "source": [
        "3.  What is an object in OOP?\n",
        "\n",
        "=>  An object is an instance of a class. It has a state (attributes) and behavior (methods)."
      ],
      "metadata": {
        "id": "ctzUe4hhZeJJ"
      }
    },
    {
      "cell_type": "markdown",
      "source": [
        "4. What is the difference between abstraction and encapsulation?\n",
        "\n",
        "=>  Abstraction: Hides the implementation details and shows only the necessary features. (e.g., using a car without knowing how the engine works)\n",
        "\n",
        "Encapsulation: Hides the internal state of an object by restricting direct access to some data (e.g., using private variables)."
      ],
      "metadata": {
        "id": "ueeUW7RhbcOb"
      }
    },
    {
      "cell_type": "code",
      "source": [
        "class BankAccount:\n",
        "    def __init__(self, balance):\n",
        "        self.__balance = balance  # Encapsulated data\n",
        "    def get_balance(self):  # Abstraction\n",
        "        return self.__balance\n",
        "BankAccount(1000).get_balance()"
      ],
      "metadata": {
        "colab": {
          "base_uri": "https://localhost:8080/"
        },
        "id": "EyIfzdq4b92E",
        "outputId": "36310bb9-8534-4cc0-b5d0-799e7fe975c8"
      },
      "execution_count": null,
      "outputs": [
        {
          "output_type": "execute_result",
          "data": {
            "text/plain": [
              "1000"
            ]
          },
          "metadata": {},
          "execution_count": 4
        }
      ]
    },
    {
      "cell_type": "markdown",
      "source": [
        "5. What are dunder methods in Python?\n",
        "\n",
        "=>  \"Dunder\" (double underscore) methods, also called magic methods, allow operator overloading and define object behavior.\n",
        "\n",
        "Examples:\n",
        "\n",
        "__init__() → Constructor\n",
        "\n",
        "__str__() → String representation\n",
        "\n",
        "__len__() → Length of an object"
      ],
      "metadata": {
        "id": "sO2gbebVcYC7"
      }
    },
    {
      "cell_type": "code",
      "source": [
        "class person:\n",
        "  def __init__(self,name):\n",
        "    self.name=name\n",
        "  def __str__(self):\n",
        "    return f\"person:{self.name}\"\n",
        "obj1= person(\"Sourav Chanda\")\n",
        "obj1.__str__()\n"
      ],
      "metadata": {
        "colab": {
          "base_uri": "https://localhost:8080/",
          "height": 36
        },
        "id": "gIkB7VcvcLZm",
        "outputId": "155c979a-7e05-4285-ca9b-164fc7b65de6"
      },
      "execution_count": null,
      "outputs": [
        {
          "output_type": "execute_result",
          "data": {
            "text/plain": [
              "'person:Sourav Chanda'"
            ],
            "application/vnd.google.colaboratory.intrinsic+json": {
              "type": "string"
            }
          },
          "metadata": {},
          "execution_count": 9
        }
      ]
    },
    {
      "cell_type": "markdown",
      "source": [
        "6.  Explain the concept of inheritance in OOP?\n",
        "\n",
        "=> Inheritance allows a class (child class) to derive attributes and methods from another class (parent class). It promotes code reusability."
      ],
      "metadata": {
        "id": "3ecBM0C3eCJM"
      }
    },
    {
      "cell_type": "code",
      "source": [
        "class Animal:\n",
        "  def color(self):\n",
        "    print (\" Animal Color \")\n",
        "class Dog(Animal):\n",
        "  def color_D(self):\n",
        "    print(\" Dog Color is Black\")\n",
        "obj1=Animal()\n",
        "obj1.color()\n",
        "obj2=Dog()\n",
        "obj2.color_D()\n",
        "obj2.color()"
      ],
      "metadata": {
        "colab": {
          "base_uri": "https://localhost:8080/"
        },
        "id": "8icT7CkBdclX",
        "outputId": "6dccad8b-552b-41ca-ef9f-f0c9ae6e68ee"
      },
      "execution_count": null,
      "outputs": [
        {
          "output_type": "stream",
          "name": "stdout",
          "text": [
            " Animal Color \n",
            " Dog Color is Black\n",
            " Animal Color \n"
          ]
        }
      ]
    },
    {
      "cell_type": "markdown",
      "source": [
        "7. What is polymorphism in OOP?\n",
        "\n",
        "=>  Polymorphism allows the same function or method to behave differently depending on the object calling it."
      ],
      "metadata": {
        "id": "UND1xkUHfrNp"
      }
    },
    {
      "cell_type": "code",
      "source": [
        "class Animal:\n",
        "    def speak(self):\n",
        "        return \"Some sound\"\n",
        "class Dog(Animal):\n",
        "    def speak(self):\n",
        "        return \"Bark\"\n",
        "class Cat:\n",
        "    def speak(self):\n",
        "        return \"Meow\"\n",
        "animals = [Dog(), Cat()]\n",
        "for animal in animals:\n",
        "    print(animal.speak())"
      ],
      "metadata": {
        "colab": {
          "base_uri": "https://localhost:8080/"
        },
        "id": "-7bHT9fhfVRS",
        "outputId": "54bbbc59-00e9-4b66-a379-6193be5b2f64"
      },
      "execution_count": null,
      "outputs": [
        {
          "output_type": "stream",
          "name": "stdout",
          "text": [
            "Bark\n",
            "Meow\n"
          ]
        }
      ]
    },
    {
      "cell_type": "markdown",
      "source": [
        "8. How is encapsulation achieved in Python?\n",
        "\n",
        "=>  Encapsulation is achieved using private (__ prefix) and protected\n",
        "( _prefix) variables"
      ],
      "metadata": {
        "id": "zowfPZojgc0U"
      }
    },
    {
      "cell_type": "code",
      "source": [
        "class Account:\n",
        "    def __init__(self, balance):\n",
        "        self.__balance = balance  # Private variable\n",
        "    def get_balance(self):\n",
        "        return self.__balance\n",
        "Account(1000).get_balance()"
      ],
      "metadata": {
        "colab": {
          "base_uri": "https://localhost:8080/"
        },
        "id": "ZKQNAQxjgaIq",
        "outputId": "7dd33247-f4e5-4549-c136-438ad77163b7"
      },
      "execution_count": null,
      "outputs": [
        {
          "output_type": "execute_result",
          "data": {
            "text/plain": [
              "1000"
            ]
          },
          "metadata": {},
          "execution_count": 17
        }
      ]
    },
    {
      "cell_type": "markdown",
      "source": [
        "9. What is a constructor in Python?\n",
        "\n",
        "=>  A constructor is a special method ( __init__ () ) that initializes object attributes when an object is created."
      ],
      "metadata": {
        "id": "yn32nq9yhGYz"
      }
    },
    {
      "cell_type": "code",
      "source": [
        "class Student:\n",
        "  def __init__(self,name):\n",
        "    self.name=name\n",
        "  def student_name(self):\n",
        "    return self.name\n",
        "obj=Student(\"Sourav Chanda\")\n",
        "obj.student_name()"
      ],
      "metadata": {
        "colab": {
          "base_uri": "https://localhost:8080/",
          "height": 36
        },
        "id": "XygOVAvihbGp",
        "outputId": "b5bd3b32-d6a4-41ce-8069-2717d33fc753"
      },
      "execution_count": null,
      "outputs": [
        {
          "output_type": "execute_result",
          "data": {
            "text/plain": [
              "'Sourav Chanda'"
            ],
            "application/vnd.google.colaboratory.intrinsic+json": {
              "type": "string"
            }
          },
          "metadata": {},
          "execution_count": 18
        }
      ]
    },
    {
      "cell_type": "markdown",
      "source": [
        "10.  What are class and static methods in Python?\n",
        "\n",
        "=>  Class Method (@classmethod): Works with the class instead of an instance.\n",
        "\n",
        "  Static Method (@staticmethod): Independent of class or instance."
      ],
      "metadata": {
        "id": "o1OkEQrdiC2j"
      }
    },
    {
      "cell_type": "code",
      "source": [
        "\n",
        "class Example:\n",
        "  count=0\n",
        "  @classmethod\n",
        "  def Class_method(cls):\n",
        "    return cls.count\n",
        "  @staticmethod\n",
        "  def Static_method():\n",
        "    return \"Static Method\"\n",
        "obj1=Example()\n",
        "obj1.Class_method()\n",
        "obj1.Static_method()"
      ],
      "metadata": {
        "colab": {
          "base_uri": "https://localhost:8080/",
          "height": 36
        },
        "id": "myiLWO16iBKt",
        "outputId": "74ad044d-d831-4b5f-acc1-238b2754a3a8"
      },
      "execution_count": null,
      "outputs": [
        {
          "output_type": "execute_result",
          "data": {
            "text/plain": [
              "'Static Method'"
            ],
            "application/vnd.google.colaboratory.intrinsic+json": {
              "type": "string"
            }
          },
          "metadata": {},
          "execution_count": 22
        }
      ]
    },
    {
      "cell_type": "markdown",
      "source": [
        "11. What is method overloading in Python?\n",
        "\n",
        "=>  Python does not support true method overloading, but we can achieve it using default arguments or *args."
      ],
      "metadata": {
        "id": "AP5U3oOAjbRf"
      }
    },
    {
      "cell_type": "code",
      "source": [
        "class Math:\n",
        "    def add(self, a, b, c=0):  # Overloading with default argument\n",
        "        return a + b + c\n",
        "obj=Math()\n",
        "obj.add(2,6)"
      ],
      "metadata": {
        "colab": {
          "base_uri": "https://localhost:8080/"
        },
        "id": "wZa30bC7m-wH",
        "outputId": "90b79695-07da-4c66-ea4d-5d835287f873"
      },
      "execution_count": null,
      "outputs": [
        {
          "output_type": "execute_result",
          "data": {
            "text/plain": [
              "8"
            ]
          },
          "metadata": {},
          "execution_count": 25
        }
      ]
    },
    {
      "cell_type": "markdown",
      "source": [
        "12.  What is method overriding in OOP?\n",
        "\n",
        "=>  Method overriding occurs when a child class provides a new implementation of a method from the parent class."
      ],
      "metadata": {
        "id": "YQDtRqyxnPJI"
      }
    },
    {
      "cell_type": "code",
      "source": [
        "class Parent:\n",
        "    def show(self):\n",
        "        return \"Parent\"\n",
        "class Child(Parent):\n",
        "    def show(self):\n",
        "        return \"Child\"\n",
        "obj1=Parent()\n",
        "obj2=Child()\n",
        "obj1.show()\n",
        "obj2.show()"
      ],
      "metadata": {
        "colab": {
          "base_uri": "https://localhost:8080/",
          "height": 36
        },
        "id": "I7X6bmjPnFv3",
        "outputId": "b40230d5-11a9-446f-c53e-71fe1cb5afcf"
      },
      "execution_count": null,
      "outputs": [
        {
          "output_type": "execute_result",
          "data": {
            "text/plain": [
              "'Child'"
            ],
            "application/vnd.google.colaboratory.intrinsic+json": {
              "type": "string"
            }
          },
          "metadata": {},
          "execution_count": 26
        }
      ]
    },
    {
      "cell_type": "markdown",
      "source": [
        "13.What is a property decorator in Python?\n",
        "\n",
        "=>  The @property decorator allows a method to be accessed like an attribute.\n"
      ],
      "metadata": {
        "id": "xFLjeoZTnu0l"
      }
    },
    {
      "cell_type": "code",
      "source": [
        "class Employee:\n",
        "    def __init__(self, salary):\n",
        "        self._salary = salary\n",
        "    @property\n",
        "    def salary(self):\n",
        "        return self._salary\n",
        "obj=Employee(50000)\n",
        "obj.salary"
      ],
      "metadata": {
        "colab": {
          "base_uri": "https://localhost:8080/"
        },
        "id": "djniFQbIn5u1",
        "outputId": "dbeaef38-01d5-4dd1-d1e6-e4b0d19bd158"
      },
      "execution_count": null,
      "outputs": [
        {
          "output_type": "execute_result",
          "data": {
            "text/plain": [
              "50000"
            ]
          },
          "metadata": {},
          "execution_count": 30
        }
      ]
    },
    {
      "cell_type": "markdown",
      "source": [
        "14. Why is polymorphism important in OOP?\n",
        "\n",
        "=> Polymorphism allows different objects to be treated as instances of the same superclass, enabling flexible and reusable code. It helps in:\n",
        "\n",
        "Code Reusability: A single function can operate on objects of different classes.\n",
        "\n",
        "Extensibility: New classes can be added with minimal changes to existing code.\n",
        "\n",
        "Dynamic Method Resolution: The method that gets executed depends on the object at runtime, allowing for more adaptable code."
      ],
      "metadata": {
        "id": "nXdZsHP2GILm"
      }
    },
    {
      "cell_type": "code",
      "source": [
        "class Animal:\n",
        "    def speak(self):\n",
        "        pass\n",
        "\n",
        "class Dog(Animal):\n",
        "    def speak(self):\n",
        "        return \"Bark\"\n",
        "\n",
        "class Cat(Animal):\n",
        "    def speak(self):\n",
        "        return \"Meow\"\n",
        "\n",
        "# Polymorphism in action\n",
        "animals = [Dog(), Cat()]\n",
        "for animal in animals:\n",
        "    print(animal.speak())"
      ],
      "metadata": {
        "id": "G9L2QIfIoLMW",
        "colab": {
          "base_uri": "https://localhost:8080/"
        },
        "outputId": "32f4477a-d6e0-4492-c2f6-7eebcfbe985e"
      },
      "execution_count": 1,
      "outputs": [
        {
          "output_type": "stream",
          "name": "stdout",
          "text": [
            "Bark\n",
            "Meow\n"
          ]
        }
      ]
    },
    {
      "cell_type": "markdown",
      "source": [
        "15.  What is an abstract class in Python?\n",
        "\n",
        "=> An abstract class is a class that cannot be instantiated and is used to define methods that must be implemented in derived classes. It ensures a common interface for all subclasses."
      ],
      "metadata": {
        "id": "QA8GeCZHHdOV"
      }
    },
    {
      "cell_type": "markdown",
      "source": [
        "16.  What are the advantages of OOP?\n",
        "\n",
        "=>  Encapsulation: Protects data from direct access.\n",
        "\n",
        "Abstraction: Hides implementation details, exposing only necessary parts.\n",
        "\n",
        "Inheritance: Allows code reuse by extending existing classes.\n",
        "\n",
        "Polymorphism: Enables objects of different types to be used interchangeably.\n",
        "\n",
        "Modularity: Code is organized into classes, making it easier to manage and scale.\n",
        "\n",
        "Maintainability: Easier debugging and code modifications.\n"
      ],
      "metadata": {
        "id": "WLzG78wUIJdj"
      }
    },
    {
      "cell_type": "markdown",
      "source": [
        "17. What is the difference between a class variable and an instance variable?\n",
        "\n",
        "=>  Class Variable\n",
        "Defined-\tInside class, outside methods\n",
        "\n",
        "Shared-\tShared among all instances\n",
        "\n",
        "Accessed Using\t- ClassName.variable or self.variable\n",
        "\n",
        "Example- \tcount for tracking instances\n",
        "\n",
        "Instance Variable\n",
        "\n",
        "Defined -Inside constructor (__init__)\n",
        "\n",
        "Shared-Unique for each instance\n",
        "\n",
        "Accessed Using - self.variable\n",
        "\n",
        "Example- name of an object\n"
      ],
      "metadata": {
        "id": "nY01KfYTIZGx"
      }
    },
    {
      "cell_type": "markdown",
      "source": [
        "18.  What is multiple inheritance in Python?\n",
        "\n",
        "=> Multiple inheritance allows a class to inherit from more than one base class."
      ],
      "metadata": {
        "id": "vA3UHr53JVt6"
      }
    },
    {
      "cell_type": "code",
      "source": [
        "class Parent1:\n",
        "    def method1(self):\n",
        "        return \"Parent1 method\"\n",
        "\n",
        "class Parent2:\n",
        "    def method2(self):\n",
        "        return \"Parent2 method\"\n",
        "\n",
        "class Child(Parent1, Parent2):\n",
        "    pass\n",
        "\n",
        "obj = Child()\n",
        "print(obj.method1())  # Parent1 method\n",
        "print(obj.method2())  # Parent2 method"
      ],
      "metadata": {
        "colab": {
          "base_uri": "https://localhost:8080/"
        },
        "id": "9N1e4INXJn9L",
        "outputId": "7fd8b13f-8386-40ff-ad01-c3d828efd6c5"
      },
      "execution_count": 5,
      "outputs": [
        {
          "output_type": "stream",
          "name": "stdout",
          "text": [
            "Parent1 method\n",
            "Parent2 method\n"
          ]
        }
      ]
    },
    {
      "cell_type": "markdown",
      "source": [
        "19. Explain the purpose of ‘’__str__’ and ‘__repr__’ ‘ methods in Python?\n",
        "\n",
        "=>  __str__: Returns a user-friendly string representation.\n",
        "__repr__: Returns a developer-friendly string representation."
      ],
      "metadata": {
        "id": "13y27ZCKJ3gD"
      }
    },
    {
      "cell_type": "code",
      "source": [
        "class Person:\n",
        "    def __init__(self, name, age):\n",
        "        self.name = name\n",
        "        self.age = age\n",
        "\n",
        "    def __str__(self):\n",
        "        return f\"Person: {self.name}, Age: {self.age}\"\n",
        "\n",
        "    def __repr__(self):\n",
        "        return f\"Person('{self.name}', {self.age})\"\n",
        "\n",
        "p = Person(\"Alice\", 25)\n",
        "print(str(p))  # Output: Person: Alice, Age: 25\n",
        "print(repr(p))  # Person('Alice', 25)"
      ],
      "metadata": {
        "colab": {
          "base_uri": "https://localhost:8080/"
        },
        "id": "sZDXLfXzJ2uI",
        "outputId": "90c9cfb5-0834-4855-fae0-1ebdd9d8f064"
      },
      "execution_count": 6,
      "outputs": [
        {
          "output_type": "stream",
          "name": "stdout",
          "text": [
            "Person: Alice, Age: 25\n",
            "Person('Alice', 25)\n"
          ]
        }
      ]
    },
    {
      "cell_type": "markdown",
      "source": [
        "20. What is the significance of the ‘super()’ function in Python?\n",
        "\n",
        "=> super() is used to call methods from the parent class in a subclass. This is especially useful when working with inheritance, as it allows a subclass to reuse methods from its superclass without rewriting them."
      ],
      "metadata": {
        "id": "jDztCKVuK92t"
      }
    },
    {
      "cell_type": "markdown",
      "source": [
        "21. What is the significance of the __del__ method in Python?\n",
        "\n",
        "=>  The __del__ method is called automatically when an object is deleted. It is used for cleanup tasks like closing files, releasing resources, or printing messages."
      ],
      "metadata": {
        "id": "ZLXEzppaLNoJ"
      }
    },
    {
      "cell_type": "code",
      "source": [
        "class Example:\n",
        "    def __init__(self, name):\n",
        "        self.name = name\n",
        "\n",
        "    def __del__(self):\n",
        "        print(f\"Object {self.name} is being deleted\")\n",
        "\n",
        "obj = Example(\"Sample\")\n",
        "del obj  # Object is being deleted"
      ],
      "metadata": {
        "colab": {
          "base_uri": "https://localhost:8080/"
        },
        "id": "RzQmM750LWjS",
        "outputId": "62c5cc82-3490-4831-8f84-a66059a15faa"
      },
      "execution_count": 7,
      "outputs": [
        {
          "output_type": "stream",
          "name": "stdout",
          "text": [
            "Object Sample is being deleted\n"
          ]
        }
      ]
    },
    {
      "cell_type": "markdown",
      "source": [
        "22.  What is the difference between @staticmethod and @classmethod in Python?\n",
        "\n",
        "=>  @staticmethod\n",
        "\n",
        "Does not receive an implicit reference to the instance (self) or the class (cls).\n",
        "\n",
        "Behaves like a regular function but belongs to the class's namespace.\n",
        "\n",
        "Cannot modify class or instance attributes.\n",
        "\n",
        "Used for utility/helper methods that do not depend on the class or instance.\n",
        "\n",
        "@classmethod\n",
        "\n",
        "Receives a reference to the class (cls) as its first argument.\n",
        "\n",
        "Can modify class-level attributes but not instance-level attributes.\n",
        "\n",
        "Used when we need to work with class variables or create an instance in an alternative way.\n"
      ],
      "metadata": {
        "id": "0hs6wscCLi93"
      }
    },
    {
      "cell_type": "markdown",
      "source": [
        "23. How does polymorphism work in Python with inheritance?\n",
        "\n",
        "=>  Polymorphism in Python allows methods in different classes to have the same name but different implementations. It enables code reusability and flexibility in OOP.\n",
        "\n",
        "Types of Polymorphism in Python\n",
        "\n",
        "Method Overriding (Polymorphism in Inheritance)\n",
        "\n",
        "Method Overloading (Achieved through Default Arguments)\n",
        "Operator Overloading\n",
        "\n",
        "Polymorphism in Inheritance (Method Overriding):\n",
        "When a subclass overrides a method from its parent class, Python dynamically determines at runtime which method to execute.\n",
        "\n",
        "Polymorphism Using a Common Interface:\n",
        "If multiple classes share the same method name, Python allows treating them interchangeably, even if they are not related through inheritance.\n",
        "\n",
        "Operator Overloading (Special Methods for Polymorphism):\n",
        "Python allows operator overloading, where operators like +, -, *, etc., work differently for different data types."
      ],
      "metadata": {
        "id": "v7y1tMUwMSBw"
      }
    },
    {
      "cell_type": "markdown",
      "source": [
        "24. What is method chaining in Python OOP?\n",
        "\n",
        "=>  Method chaining is a technique in Object-Oriented Programming (OOP) where multiple methods are called on the same object in a single statement. It works by ensuring that each method returns self, allowing subsequent method calls on the same instance."
      ],
      "metadata": {
        "id": "ko4mdBKgNDcc"
      }
    },
    {
      "cell_type": "code",
      "source": [
        "class Car:\n",
        "    def __init__(self, brand):\n",
        "        self.brand = brand\n",
        "        self.model = None\n",
        "        self.color = None\n",
        "\n",
        "    def set_model(self, model):\n",
        "        self.model = model\n",
        "        return self  # Returning self enables chaining\n",
        "\n",
        "    def set_color(self, color):\n",
        "        self.color = color\n",
        "        return self\n",
        "\n",
        "    def display(self):\n",
        "        print(f\"Car: {self.brand}, Model: {self.model}, Color: {self.color}\")\n",
        "        return self\n",
        "\n",
        "# Using method chaining\n",
        "car = Car(\"Toyota\").set_model(\"Camry\").set_color(\"Red\").display()\n",
        "\n",
        "# Output:\n",
        "# Car: Toyota, Model: Camry, Color: Red"
      ],
      "metadata": {
        "colab": {
          "base_uri": "https://localhost:8080/"
        },
        "id": "zAO32lt5MRdM",
        "outputId": "bbdae579-9c85-48eb-caad-b751e4b1499d"
      },
      "execution_count": 8,
      "outputs": [
        {
          "output_type": "stream",
          "name": "stdout",
          "text": [
            "Car: Toyota, Model: Camry, Color: Red\n"
          ]
        }
      ]
    },
    {
      "cell_type": "markdown",
      "source": [
        "25.  What is the purpose of the __call__ method in Python?\n",
        "\n",
        "=>  The __call__ method allows an instance of a class to be called like a function."
      ],
      "metadata": {
        "id": "WsPzM7pfNhH_"
      }
    },
    {
      "cell_type": "code",
      "source": [
        "class Multiplier:\n",
        "    def __init__(self, factor):\n",
        "        self.factor = factor\n",
        "\n",
        "    def __call__(self, value):\n",
        "        return value * self.factor\n",
        "\n",
        "double = Multiplier(2)\n",
        "print(double(5))  # Output: 10"
      ],
      "metadata": {
        "colab": {
          "base_uri": "https://localhost:8080/"
        },
        "id": "D4DnpwYjLspa",
        "outputId": "d6070dc9-4310-4901-b534-412c4d611914"
      },
      "execution_count": 10,
      "outputs": [
        {
          "output_type": "stream",
          "name": "stdout",
          "text": [
            "10\n"
          ]
        }
      ]
    },
    {
      "cell_type": "markdown",
      "source": [
        "**Practical Questions**"
      ],
      "metadata": {
        "id": "qcnE3PXnOATa"
      }
    },
    {
      "cell_type": "code",
      "source": [
        "# 1.  Create a parent class Animal with a method speak() that prints a generic message. Create a child class Dog that overrides the speak() method to print \"Bark!\"\n",
        "class Animal:\n",
        "    def speak(self):\n",
        "        print(\"This animal makes a sound.\")\n",
        "\n",
        "class Dog(Animal):\n",
        "    def speak(self):  # Overriding the parent class method\n",
        "        print(\"Bark!\")\n",
        "\n",
        "# Creating instances\n",
        "animal = Animal()\n",
        "dog = Dog()\n",
        "\n",
        "# Calling the speak method\n",
        "animal.speak()  # Output: This animal makes a sound.\n",
        "dog.speak()     # Output: Bark!"
      ],
      "metadata": {
        "colab": {
          "base_uri": "https://localhost:8080/"
        },
        "id": "k-pq5TwFOEat",
        "outputId": "5723951b-8bb1-4e7c-a6a4-0834c70831ad"
      },
      "execution_count": 11,
      "outputs": [
        {
          "output_type": "stream",
          "name": "stdout",
          "text": [
            "This animal makes a sound.\n",
            "Bark!\n"
          ]
        }
      ]
    },
    {
      "cell_type": "code",
      "source": [
        "# 2. Write a program to create an abstract class Shape with a method area(). Derive classes Circle and Rectangle from it and implement the area() method in both.\n",
        "from abc import ABC, abstractmethod\n",
        "import math\n",
        "\n",
        "# Abstract class\n",
        "class Shape(ABC):\n",
        "    @abstractmethod\n",
        "    def area(self):\n",
        "        \"\"\"Abstract method to calculate area\"\"\"\n",
        "        pass\n",
        "\n",
        "# Derived class: Circle\n",
        "class Circle(Shape):\n",
        "    def __init__(self, radius):\n",
        "        self.radius = radius\n",
        "\n",
        "    def area(self):\n",
        "        return math.pi * self.radius ** 2\n",
        "\n",
        "# Derived class: Rectangle\n",
        "class Rectangle(Shape):\n",
        "    def __init__(self, length, width):\n",
        "        self.length = length\n",
        "        self.width = width\n",
        "\n",
        "    def area(self):\n",
        "        return self.length * self.width\n",
        "\n",
        "# Creating objects\n",
        "circle = Circle(5)\n",
        "rectangle = Rectangle(4, 6)\n",
        "\n",
        "# Calling the area method\n",
        "print(f\"Circle Area: {circle.area():.2f}\")   # Output: Circle Area: 78.54\n",
        "print(f\"Rectangle Area: {rectangle.area()}\") # Output: Rectangle Area: 24"
      ],
      "metadata": {
        "colab": {
          "base_uri": "https://localhost:8080/"
        },
        "id": "ker9cEFhOYaH",
        "outputId": "906ee023-f750-48f4-b898-457b3cbb88f2"
      },
      "execution_count": 12,
      "outputs": [
        {
          "output_type": "stream",
          "name": "stdout",
          "text": [
            "Circle Area: 78.54\n",
            "Rectangle Area: 24\n"
          ]
        }
      ]
    },
    {
      "cell_type": "code",
      "source": [
        "# 3.  Implement a multi-level inheritance scenario where a class Vehicle has an attribute type. Derive a class Car and further derive a class ElectricCar that adds a battery attribute\n",
        "class Vehicle:\n",
        "    def __init__(self, vehicle_type):\n",
        "        self.vehicle_type = vehicle_type\n",
        "\n",
        "    def display_type(self):\n",
        "        print(f\"Vehicle Type: {self.vehicle_type}\")\n",
        "\n",
        "# Derived class from Vehicle\n",
        "class Car(Vehicle):\n",
        "    def __init__(self, vehicle_type, brand):\n",
        "        super().__init__(vehicle_type)  # Call parent class constructor\n",
        "        self.brand = brand\n",
        "\n",
        "    def display_brand(self):\n",
        "        print(f\"Car Brand: {self.brand}\")\n",
        "\n",
        "# Further derived class from Car\n",
        "class ElectricCar(Car):\n",
        "    def __init__(self, vehicle_type, brand, battery_capacity):\n",
        "        super().__init__(vehicle_type, brand)  # Call Car constructor\n",
        "        self.battery_capacity = battery_capacity\n",
        "\n",
        "    def display_battery(self):\n",
        "        print(f\"Battery Capacity: {self.battery_capacity} kWh\")\n",
        "\n",
        "# Creating an instance of ElectricCar\n",
        "tesla = ElectricCar(\"Electric\", \"Tesla\", 100)\n",
        "\n",
        "# Calling methods from all levels of inheritance\n",
        "tesla.display_type()     # Output: Vehicle Type: Electric\n",
        "tesla.display_brand()    # Output: Car Brand: Tesla\n",
        "tesla.display_battery()  # Output: Battery Capacity: 100 kWh"
      ],
      "metadata": {
        "colab": {
          "base_uri": "https://localhost:8080/"
        },
        "id": "bf1_74scPCv7",
        "outputId": "76a24d3b-32b5-4732-8d96-4a42453dce20"
      },
      "execution_count": 13,
      "outputs": [
        {
          "output_type": "stream",
          "name": "stdout",
          "text": [
            "Vehicle Type: Electric\n",
            "Car Brand: Tesla\n",
            "Battery Capacity: 100 kWh\n"
          ]
        }
      ]
    },
    {
      "cell_type": "code",
      "source": [
        "# 4.Demonstrate polymorphism by creating a base class Bird with a method fly(). Create two derived classes Sparrow and Penguin that override the fly() method.\n",
        "class Bird:\n",
        "    def fly(self):\n",
        "        print(\"Some birds can fly.\")\n",
        "\n",
        "# Derived class: Sparrow\n",
        "class Sparrow(Bird):\n",
        "    def fly(self):\n",
        "        print(\"Sparrow flies high in the sky.\")\n",
        "\n",
        "# Derived class: Penguin\n",
        "class Penguin(Bird):\n",
        "    def fly(self):\n",
        "        print(\"Penguins cannot fly; they swim instead.\")\n",
        "\n",
        "# Function demonstrating polymorphism\n",
        "def bird_fly_test(bird):\n",
        "    bird.fly()  # Calls the overridden method dynamically\n",
        "\n",
        "# Creating instances\n",
        "sparrow = Sparrow()\n",
        "penguin = Penguin()\n",
        "\n",
        "# Calling method using polymorphism\n",
        "bird_fly_test(sparrow)  # Output: Sparrow flies high in the sky.\n",
        "bird_fly_test(penguin)  # Output: Penguins cannot fly; they swim instead.\n"
      ],
      "metadata": {
        "colab": {
          "base_uri": "https://localhost:8080/"
        },
        "id": "FsnqoVT9Pm6Z",
        "outputId": "bef5b58f-9525-4dc6-a406-5b542cfc5523"
      },
      "execution_count": 14,
      "outputs": [
        {
          "output_type": "stream",
          "name": "stdout",
          "text": [
            "Sparrow flies high in the sky.\n",
            "Penguins cannot fly; they swim instead.\n"
          ]
        }
      ]
    },
    {
      "cell_type": "code",
      "source": [
        "# 5. Write a program to demonstrate encapsulation by creating a class BankAccount with private attributes balance and methods to deposit, withdraw, and check balance.\n",
        "\n",
        "class BankAccount:\n",
        "    def __init__(self, initial_balance=0):\n",
        "        self.__balance = initial_balance  # Private attribute\n",
        "\n",
        "    def deposit(self, amount):\n",
        "        if amount > 0:\n",
        "            self.__balance += amount\n",
        "            print(f\"Deposited: ${amount}\")\n",
        "        else:\n",
        "            print(\"Deposit amount must be positive.\")\n",
        "\n",
        "    def withdraw(self, amount):\n",
        "        if 0 < amount <= self.__balance:\n",
        "            self.__balance -= amount\n",
        "            print(f\"Withdrawn: ${amount}\")\n",
        "        else:\n",
        "            print(\"Insufficient balance or invalid amount.\")\n",
        "\n",
        "    def check_balance(self):\n",
        "        print(f\"Current Balance: ${self.__balance}\")\n",
        "\n",
        "# Creating a BankAccount instance\n",
        "account = BankAccount(100)  # Initial balance $100\n",
        "\n",
        "# Performing transactions\n",
        "account.deposit(50)         # Deposited: $50\n",
        "account.withdraw(30)        # Withdrawn: $30\n",
        "account.check_balance()     # Current Balance: $120"
      ],
      "metadata": {
        "colab": {
          "base_uri": "https://localhost:8080/"
        },
        "id": "At5lERYcP4oX",
        "outputId": "c2194c68-0636-49fc-d183-2666b37178cf"
      },
      "execution_count": 15,
      "outputs": [
        {
          "output_type": "stream",
          "name": "stdout",
          "text": [
            "Deposited: $50\n",
            "Withdrawn: $30\n",
            "Current Balance: $120\n"
          ]
        }
      ]
    },
    {
      "cell_type": "code",
      "source": [
        "# 6.  Demonstrate runtime polymorphism using a method play() in a base class Instrument. Derive classes Guitar and Piano that implement their own version of play().\n",
        "class Instrument:\n",
        "    def play(self):\n",
        "        print(\"Playing an instrument.\")\n",
        "\n",
        "# Derived class: Guitar\n",
        "class Guitar(Instrument):\n",
        "    def play(self):\n",
        "        print(\"Strumming the guitar!\")\n",
        "\n",
        "# Derived class: Piano\n",
        "class Piano(Instrument):\n",
        "    def play(self):\n",
        "        print(\"Playing the piano keys!\")\n",
        "\n",
        "# Function to demonstrate polymorphism\n",
        "def play_instrument(instrument):\n",
        "    instrument.play()  # Calls the appropriate overridden method\n",
        "\n",
        "# Creating instances\n",
        "guitar = Guitar()\n",
        "piano = Piano()\n",
        "\n",
        "# Using polymorphism\n",
        "play_instrument(guitar)  # Output: Strumming the guitar!\n",
        "play_instrument(piano)   # Output: Playing the piano keys!"
      ],
      "metadata": {
        "colab": {
          "base_uri": "https://localhost:8080/"
        },
        "id": "yDokkhOhQLmx",
        "outputId": "f4de8eb5-424e-44ba-baf1-2ea5fac4b000"
      },
      "execution_count": 16,
      "outputs": [
        {
          "output_type": "stream",
          "name": "stdout",
          "text": [
            "Strumming the guitar!\n",
            "Playing the piano keys!\n"
          ]
        }
      ]
    },
    {
      "cell_type": "code",
      "source": [
        "# 7. Create a class MathOperations with a class method add_numbers() to add two numbers and a static method subtract_numbers() to subtract two numbers\n",
        "\n",
        "class MathOperations:\n",
        "    @classmethod\n",
        "    def add_numbers(cls, a, b):\n",
        "        return a + b  # Uses class method for addition\n",
        "\n",
        "    @staticmethod\n",
        "    def subtract_numbers(a, b):\n",
        "        return a - b  # Uses static method for subtraction\n",
        "\n",
        "# Calling class method\n",
        "sum_result = MathOperations.add_numbers(10, 5)\n",
        "print(f\"Sum: {sum_result}\")  # Output: Sum: 15\n",
        "\n",
        "# Calling static method\n",
        "difference_result = MathOperations.subtract_numbers(10, 5)\n",
        "print(f\"Difference: {difference_result}\")  # Output: Difference: 5\n"
      ],
      "metadata": {
        "colab": {
          "base_uri": "https://localhost:8080/"
        },
        "id": "Ia6j2dbcQbAw",
        "outputId": "cfac9510-546d-4f0e-8c0f-5fc3433a9836"
      },
      "execution_count": 17,
      "outputs": [
        {
          "output_type": "stream",
          "name": "stdout",
          "text": [
            "Sum: 15\n",
            "Difference: 5\n"
          ]
        }
      ]
    },
    {
      "cell_type": "code",
      "source": [
        "#8.  Implement a class Person with a class method to count the total number of persons created.\n",
        "class Person:\n",
        "    count = 0  # Class attribute to track number of instances\n",
        "\n",
        "    def __init__(self, name):\n",
        "        self.name = name\n",
        "        Person.count += 1  # Increment count when a new object is created\n",
        "\n",
        "    @classmethod\n",
        "    def total_persons(cls):\n",
        "        return f\"Total persons created: {cls.count}\"\n",
        "\n",
        "# Creating instances\n",
        "p1 = Person(\"Alice\")\n",
        "p2 = Person(\"Bob\")\n",
        "p3 = Person(\"Charlie\")\n",
        "\n",
        "# Accessing total count via class method\n",
        "print(Person.total_persons())  # Output: Total persons created: 3\n"
      ],
      "metadata": {
        "colab": {
          "base_uri": "https://localhost:8080/"
        },
        "id": "iSLxStcmQnW8",
        "outputId": "e256230a-18b2-44bd-a595-48ceebaa85fe"
      },
      "execution_count": 19,
      "outputs": [
        {
          "output_type": "stream",
          "name": "stdout",
          "text": [
            "Total persons created: 3\n"
          ]
        }
      ]
    },
    {
      "cell_type": "code",
      "source": [
        "# 9.  Write a class Fraction with attributes numerator and denominator. Override the str method to display the fraction as \"numerator/denominator\".\n",
        "\n",
        "class Fraction:\n",
        "    def __init__(self, numerator, denominator):\n",
        "        if denominator == 0:\n",
        "            raise ValueError(\"Denominator cannot be zero.\")\n",
        "        self.numerator = numerator\n",
        "        self.denominator = denominator\n",
        "\n",
        "    def __str__(self):\n",
        "        return f\"{self.numerator}/{self.denominator}\"\n",
        "\n",
        "# Creating fraction objects\n",
        "frac1 = Fraction(3, 4)\n",
        "frac2 = Fraction(5, 8)\n",
        "\n",
        "# Displaying the fractions\n",
        "print(frac1)  # Output: 3/4\n",
        "print(frac2)  # Output: 5/8\n"
      ],
      "metadata": {
        "colab": {
          "base_uri": "https://localhost:8080/"
        },
        "id": "Fu8AD2IKQ4Kb",
        "outputId": "22186e54-c6e3-40de-d277-ee9ba262a5f8"
      },
      "execution_count": 20,
      "outputs": [
        {
          "output_type": "stream",
          "name": "stdout",
          "text": [
            "3/4\n",
            "5/8\n"
          ]
        }
      ]
    },
    {
      "cell_type": "code",
      "source": [
        "# 10. Demonstrate operator overloading by creating a class Vector and overriding the add method to add two vectors.\n",
        "class Vector:\n",
        "    def __init__(self, x, y):\n",
        "        self.x = x\n",
        "        self.y = y\n",
        "\n",
        "    def __add__(self, other):\n",
        "        if not isinstance(other, Vector):\n",
        "            raise TypeError(\"Operand must be a Vector\")\n",
        "        return Vector(self.x + other.x, self.y + other.y)\n",
        "\n",
        "    def __str__(self):\n",
        "        return f\"({self.x}, {self.y})\"\n",
        "\n",
        "# Creating vector objects\n",
        "v1 = Vector(2, 3)\n",
        "v2 = Vector(4, 5)\n",
        "\n",
        "# Adding vectors using overloaded '+' operator\n",
        "v3 = v1 + v2\n",
        "\n",
        "# Displaying results\n",
        "print(f\"v1: {v1}\")  # Output: v1: (2, 3)\n",
        "print(f\"v2: {v2}\")  # Output: v2: (4, 5)\n",
        "print(f\"v1 + v2 = {v3}\")  # Output: v1 + v2 = (6, 8)"
      ],
      "metadata": {
        "colab": {
          "base_uri": "https://localhost:8080/"
        },
        "id": "JtX3yYGDREv0",
        "outputId": "1003fea0-c5cd-4ce0-9036-d7c3f6f2c7cd"
      },
      "execution_count": 21,
      "outputs": [
        {
          "output_type": "stream",
          "name": "stdout",
          "text": [
            "v1: (2, 3)\n",
            "v2: (4, 5)\n",
            "v1 + v2 = (6, 8)\n"
          ]
        }
      ]
    },
    {
      "cell_type": "code",
      "source": [
        "# 11.  Create a class Person with attributes name and age. Add a method greet() that prints \"Hello, my name is {name} and I am {age} years old.\n",
        "\n",
        "class Person:\n",
        "    def __init__(self, name, age):\n",
        "        self.name = name\n",
        "        self.age = age\n",
        "\n",
        "    def greet(self):\n",
        "        print(f\"Hello, my name is {self.name} and I am {self.age} years old.\")\n",
        "\n",
        "# Creating instances of Person\n",
        "person1 = Person(\"Alice\", 25)\n",
        "person2 = Person(\"Bob\", 30)\n",
        "\n",
        "# Calling the greet method\n",
        "person1.greet()  # Output: Hello, my name is Alice and I am 25 years old.\n",
        "person2.greet()  # Output: Hello, my name is Bob and I am 30 years old.\n"
      ],
      "metadata": {
        "colab": {
          "base_uri": "https://localhost:8080/"
        },
        "id": "2p9kI9_3RTC9",
        "outputId": "bc221c67-59a8-4a5d-b4cd-d6788ac96565"
      },
      "execution_count": 22,
      "outputs": [
        {
          "output_type": "stream",
          "name": "stdout",
          "text": [
            "Hello, my name is Alice and I am 25 years old.\n",
            "Hello, my name is Bob and I am 30 years old.\n"
          ]
        }
      ]
    },
    {
      "cell_type": "code",
      "source": [
        "# 12.  Implement a class Student with attributes name and grades. Create a method average_grade() to compute the average of the grades.\n",
        "\n",
        "class Student:\n",
        "    def __init__(self, name, grades):\n",
        "        self.name = name\n",
        "        self.grades = grades  # List of grades\n",
        "\n",
        "    def calculate_average(self):\n",
        "        if len(self.grades) == 0:\n",
        "            return 0  # Avoid division by zero\n",
        "        return sum(self.grades) / len(self.grades)\n",
        "\n",
        "# Creating a Student object\n",
        "student1 = Student(\"Alice\", [85, 90, 78, 92, 88])\n",
        "student2 = Student(\"Bob\", [75, 80, 72, 78, 85])\n",
        "\n",
        "# Computing and displaying average grades\n",
        "print(f\"{student1.name}'s average grade: {student1.calculate_average()}\")  # Output: 87.0\n",
        "print(f\"{student2.name}'s average grade: {student2.calculate_average()}\")  # Output: 78.0\n"
      ],
      "metadata": {
        "colab": {
          "base_uri": "https://localhost:8080/"
        },
        "id": "T51oaXcHRjWl",
        "outputId": "044f78e3-b4b1-4aa0-8867-d181bee50a3d"
      },
      "execution_count": 23,
      "outputs": [
        {
          "output_type": "stream",
          "name": "stdout",
          "text": [
            "Alice's average grade: 86.6\n",
            "Bob's average grade: 78.0\n"
          ]
        }
      ]
    },
    {
      "cell_type": "code",
      "source": [
        "# 13.  Create a class Rectangle with methods set_dimensions() to set the dimensions and area() to calculate the area.\n",
        "\n",
        "class Rectangle:\n",
        "    def __init__(self):\n",
        "        self.width = 0\n",
        "        self.height = 0\n",
        "\n",
        "    def set_dimensions(self, width, height):\n",
        "        if width <= 0 or height <= 0:\n",
        "            raise ValueError(\"Width and height must be positive values.\")\n",
        "        self.width = width\n",
        "        self.height = height\n",
        "\n",
        "    def area(self):\n",
        "        return self.width * self.height\n",
        "\n",
        "# Creating a Rectangle object\n",
        "rect = Rectangle()\n",
        "\n",
        "# Setting dimensions\n",
        "rect.set_dimensions(5, 10)\n",
        "\n",
        "# Calculating and displaying area\n",
        "print(f\"Rectangle Area: {rect.area()}\")  # Output: Rectangle Area: 50\n"
      ],
      "metadata": {
        "colab": {
          "base_uri": "https://localhost:8080/"
        },
        "id": "NbzC4xbdRvu5",
        "outputId": "e71fa7fd-cb34-4ecb-ae90-bf4b0c468d70"
      },
      "execution_count": 24,
      "outputs": [
        {
          "output_type": "stream",
          "name": "stdout",
          "text": [
            "Rectangle Area: 50\n"
          ]
        }
      ]
    },
    {
      "cell_type": "code",
      "source": [
        "# 14.  Create a class Employee with a method calculate_salary() that computes the salary based on hours worked and hourly rate. Create a derived class Manager that adds a bonus to the salary.\n",
        "\n",
        "class Employee:\n",
        "    def __init__(self, name, hours_worked, hourly_rate):\n",
        "        self.name = name\n",
        "        self.hours_worked = hours_worked\n",
        "        self.hourly_rate = hourly_rate\n",
        "\n",
        "    def calculate_salary(self):\n",
        "        return self.hours_worked * self.hourly_rate\n",
        "\n",
        "# Derived class: Manager\n",
        "class Manager(Employee):\n",
        "    def __init__(self, name, hours_worked, hourly_rate, bonus):\n",
        "        super().__init__(name, hours_worked, hourly_rate)  # Inheriting from Employee\n",
        "        self.bonus = bonus\n",
        "\n",
        "    def calculate_salary(self):\n",
        "        return super().calculate_salary() + self.bonus  # Base salary + bonus\n",
        "\n",
        "# Creating Employee and Manager objects\n",
        "emp = Employee(\"Alice\", 40, 20)  # 40 hours, $20/hour\n",
        "mgr = Manager(\"Bob\", 40, 30, 500)  # 40 hours, $30/hour, $500 bonus\n",
        "\n",
        "# Calculating salaries\n",
        "print(f\"{emp.name}'s Salary: ${emp.calculate_salary()}\")  # Output: $800\n",
        "print(f\"{mgr.name}'s Salary: ${mgr.calculate_salary()}\")  # Output: $1700\n"
      ],
      "metadata": {
        "colab": {
          "base_uri": "https://localhost:8080/"
        },
        "id": "rfWRgiwvR7lT",
        "outputId": "49fb6edf-3c0a-43d2-f3c1-6153f7cfae25"
      },
      "execution_count": 25,
      "outputs": [
        {
          "output_type": "stream",
          "name": "stdout",
          "text": [
            "Alice's Salary: $800\n",
            "Bob's Salary: $1700\n"
          ]
        }
      ]
    },
    {
      "cell_type": "code",
      "source": [
        "#15.  Create a class Product with attributes name, price, and quantity. Implement a method total_price() that calculates the total price of the product.\n",
        "\n",
        "class Product:\n",
        "    def __init__(self, name, price, quantity):\n",
        "        self.name = name\n",
        "        self.price = price\n",
        "        self.quantity = quantity\n",
        "\n",
        "    def total_price(self):\n",
        "        return self.price * self.quantity\n",
        "\n",
        "# Creating product instances\n",
        "product1 = Product(\"Laptop\", 800, 2)\n",
        "product2 = Product(\"Headphones\", 50, 3)\n",
        "\n",
        "# Displaying total prices\n",
        "print(f\"Total price of {product1.name}: ${product1.total_price()}\")  # Output: $800\n",
        "print(f\"Total price of {product2.name}: {product2.total_price()}\")  # Output: 150\n"
      ],
      "metadata": {
        "colab": {
          "base_uri": "https://localhost:8080/"
        },
        "id": "UX_6mk8-SLFJ",
        "outputId": "078b5184-551b-4429-febe-031bbd7a74d7"
      },
      "execution_count": 26,
      "outputs": [
        {
          "output_type": "stream",
          "name": "stdout",
          "text": [
            "Total price of Laptop: $1600\n",
            "Total price of Headphones: 150\n"
          ]
        }
      ]
    },
    {
      "cell_type": "code",
      "source": [
        "# 16. Create a class Animal with an abstract method sound(). Create two derived classes Cow and Sheep that implement the sound() method.\n",
        "\n",
        "from abc import ABC, abstractmethod\n",
        "\n",
        "# Base class: Abstract class with an abstract method\n",
        "class Animal:\n",
        "    def __init__(self, name):\n",
        "        self.name = name\n",
        "\n",
        "    def sound(self):\n",
        "        raise NotImplementedError(\"Subclass must implement abstract method\")\n",
        "\n",
        "# Derived class: Cow\n",
        "class Cow(Animal):\n",
        "    def sound(self):\n",
        "        return \"Moo\"\n",
        "\n",
        "# Derived class: Sheep\n",
        "class Sheep(Animal):\n",
        "    def sound(self):\n",
        "        return \"Baa\"\n",
        "\n",
        "# Creating objects of Cow and Sheep\n",
        "cow = Cow(\"Daisy\")\n",
        "sheep = Sheep(\"Dolly\")\n",
        "\n",
        "# Calling the sound method\n",
        "print(f\"{cow.name} says: {cow.sound()}\")   # Output: Cow: Moo!\n",
        "print(f\"{sheep.name} says: {sheep.sound()}\")  # Output: Sheep: Baa!\n"
      ],
      "metadata": {
        "colab": {
          "base_uri": "https://localhost:8080/"
        },
        "id": "udK0i2XLSiCS",
        "outputId": "af117d4a-67b6-4072-fe80-914837b564e0"
      },
      "execution_count": 27,
      "outputs": [
        {
          "output_type": "stream",
          "name": "stdout",
          "text": [
            "Daisy says: Moo\n",
            "Dolly says: Baa\n"
          ]
        }
      ]
    },
    {
      "cell_type": "code",
      "source": [
        "# 17. Create a class Book with attributes title, author, and year_published. Add a method get_book_info() that returns a formatted string with the book's details.\n",
        "\n",
        "class Book:\n",
        "    def __init__(self, title, author, year_published):\n",
        "        self.title = title\n",
        "        self.author = author\n",
        "        self.year_published = year_published\n",
        "\n",
        "    def get_book_info(self):\n",
        "        return f\"'{self.title}' by {self.author}, published in {self.year_published}.\"\n",
        "\n",
        "# Creating book instances\n",
        "book1 = Book(\"To Kill a Mockingbird\", \"Harper Lee\", 1960)\n",
        "book2 = Book(\"1984\", \"George Orwell\", 1949)\n",
        "\n",
        "# Displaying book information\n",
        "print(book1.get_book_info())  # Output: 'To Kill a Mockingbird' by Harper Lee, published in 1960.\n",
        "print(book2.get_book_info())  # Output: '1984' by George Orwell, published in 1949."
      ],
      "metadata": {
        "colab": {
          "base_uri": "https://localhost:8080/"
        },
        "id": "o7YB7MvkSz_y",
        "outputId": "b101b529-7ca5-404d-b6cb-1795e200cb4c"
      },
      "execution_count": 28,
      "outputs": [
        {
          "output_type": "stream",
          "name": "stdout",
          "text": [
            "'To Kill a Mockingbird' by Harper Lee, published in 1960.\n",
            "'1984' by George Orwell, published in 1949.\n"
          ]
        }
      ]
    },
    {
      "cell_type": "code",
      "source": [
        "# 18.  Create a class House with attributes address and price. Create a derived class Mansion that adds an attribute number_of_rooms.\n",
        "class House:\n",
        "    def __init__(self, address, price):\n",
        "        self.address = address\n",
        "        self.price = price\n",
        "\n",
        "    def get_details(self):\n",
        "        return f\"Address: {self.address}, Price: {self.price}\"\n",
        "\n",
        "# Derived class: Mansion (inherits from House)\n",
        "class Mansion(House):\n",
        "    def __init__(self, address, price, number_of_rooms):\n",
        "        super().__init__(address, price)  # Inherit attributes from House\n",
        "        self.number_of_rooms = number_of_rooms\n",
        "\n",
        "    def get_details(self):\n",
        "        return f\"Address: {self.address}, Price: {self.price}, Rooms: {self.number_of_rooms}\"\n",
        "\n",
        "# Creating instances\n",
        "house1 = House(\"123 Maple St\", 250000)\n",
        "mansion1 = Mansion(\"456 Oak Ave\", 1200000, 12)\n",
        "\n",
        "# Displaying details\n",
        "print(house1.get_details())   # Output: Address: 123 Maple St, Price: $250000\n",
        "print(mansion1.get_details()) # Output: Address: 456 Oak Ave, Price: $1200000, Rooms: 12"
      ],
      "metadata": {
        "colab": {
          "base_uri": "https://localhost:8080/"
        },
        "id": "JkR7jNmjTBf3",
        "outputId": "76a22936-0eb4-470a-a03a-730340396ba3"
      },
      "execution_count": 30,
      "outputs": [
        {
          "output_type": "stream",
          "name": "stdout",
          "text": [
            "Address: 123 Maple St, Price: 250000\n",
            "Address: 456 Oak Ave, Price: 1200000, Rooms: 12\n"
          ]
        }
      ]
    }
  ]
}